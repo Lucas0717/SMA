{
 "cells": [
  {
   "cell_type": "code",
   "execution_count": 1,
   "metadata": {
    "scrolled": true
   },
   "outputs": [
    {
     "name": "stderr",
     "output_type": "stream",
     "text": [
      ".\n",
      "----------------------------------------------------------------------\n",
      "Ran 1 test in 2.403s\n",
      "\n",
      "OK\n"
     ]
    }
   ],
   "source": [
    "import unittest\n",
    "import extractor_depend_1repo\n",
    "import os\n",
    "\n",
    "class Testextract(unittest.TestCase):\n",
    "    def test_extractor(self):\n",
    "        input_file = '../xkcd2347/3k_valid_repos'\n",
    "        output_file = '1_repodata_1hop'\n",
    "        git_hub_key = 'a4ff939e41a1843bb116b30b045ce8999f8a2d1e'\n",
    "        hop = 1\n",
    "        extractor_depend_1repo.getDependencies(input_file, output_file, git_hub_key, hop)\n",
    "\n",
    "if __name__ == \"__main__\":\n",
    "    unittest.main(argv=['first-arg-is-ignored'], exit=False)"
   ]
  },
  {
   "cell_type": "code",
   "execution_count": null,
   "metadata": {},
   "outputs": [],
   "source": []
  }
 ],
 "metadata": {
  "kernelspec": {
   "display_name": "Python 3",
   "language": "python",
   "name": "python3"
  },
  "language_info": {
   "codemirror_mode": {
    "name": "ipython",
    "version": 3
   },
   "file_extension": ".py",
   "mimetype": "text/x-python",
   "name": "python",
   "nbconvert_exporter": "python",
   "pygments_lexer": "ipython3",
   "version": "3.8.3"
  }
 },
 "nbformat": 4,
 "nbformat_minor": 4
}
